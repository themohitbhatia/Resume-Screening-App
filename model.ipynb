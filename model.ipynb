{
 "cells": [
  {
   "cell_type": "code",
   "execution_count": 1,
   "id": "70f012e2",
   "metadata": {},
   "outputs": [],
   "source": [
    "import numpy as np\n",
    "import pandas as pd\n",
    "import matplotlib.pyplot as plt\n",
    "import seaborn as sns"
   ]
  },
  {
   "cell_type": "code",
   "execution_count": 2,
   "id": "dd3f08e9",
   "metadata": {},
   "outputs": [],
   "source": [
    "df = pd.read_csv('Dataset/UpdatedResumeDataSet.csv')"
   ]
  },
  {
   "cell_type": "code",
   "execution_count": 3,
   "id": "37c50e7c",
   "metadata": {},
   "outputs": [
    {
     "data": {
      "text/html": [
       "<div>\n",
       "<style scoped>\n",
       "    .dataframe tbody tr th:only-of-type {\n",
       "        vertical-align: middle;\n",
       "    }\n",
       "\n",
       "    .dataframe tbody tr th {\n",
       "        vertical-align: top;\n",
       "    }\n",
       "\n",
       "    .dataframe thead th {\n",
       "        text-align: right;\n",
       "    }\n",
       "</style>\n",
       "<table border=\"1\" class=\"dataframe\">\n",
       "  <thead>\n",
       "    <tr style=\"text-align: right;\">\n",
       "      <th></th>\n",
       "      <th>Category</th>\n",
       "      <th>Resume</th>\n",
       "    </tr>\n",
       "  </thead>\n",
       "  <tbody>\n",
       "    <tr>\n",
       "      <th>0</th>\n",
       "      <td>Data Science</td>\n",
       "      <td>Skills * Programming Languages: Python (pandas...</td>\n",
       "    </tr>\n",
       "    <tr>\n",
       "      <th>1</th>\n",
       "      <td>Data Science</td>\n",
       "      <td>Education Details \\r\\nMay 2013 to May 2017 B.E...</td>\n",
       "    </tr>\n",
       "    <tr>\n",
       "      <th>2</th>\n",
       "      <td>Data Science</td>\n",
       "      <td>Areas of Interest Deep Learning, Control Syste...</td>\n",
       "    </tr>\n",
       "    <tr>\n",
       "      <th>3</th>\n",
       "      <td>Data Science</td>\n",
       "      <td>Skills â¢ R â¢ Python â¢ SAP HANA â¢ Table...</td>\n",
       "    </tr>\n",
       "    <tr>\n",
       "      <th>4</th>\n",
       "      <td>Data Science</td>\n",
       "      <td>Education Details \\r\\n MCA   YMCAUST,  Faridab...</td>\n",
       "    </tr>\n",
       "  </tbody>\n",
       "</table>\n",
       "</div>"
      ],
      "text/plain": [
       "       Category                                             Resume\n",
       "0  Data Science  Skills * Programming Languages: Python (pandas...\n",
       "1  Data Science  Education Details \\r\\nMay 2013 to May 2017 B.E...\n",
       "2  Data Science  Areas of Interest Deep Learning, Control Syste...\n",
       "3  Data Science  Skills â¢ R â¢ Python â¢ SAP HANA â¢ Table...\n",
       "4  Data Science  Education Details \\r\\n MCA   YMCAUST,  Faridab..."
      ]
     },
     "execution_count": 3,
     "metadata": {},
     "output_type": "execute_result"
    }
   ],
   "source": [
    "df.head()"
   ]
  },
  {
   "cell_type": "code",
   "execution_count": 4,
   "id": "7e397695",
   "metadata": {},
   "outputs": [
    {
     "data": {
      "text/plain": [
       "(962, 2)"
      ]
     },
     "execution_count": 4,
     "metadata": {},
     "output_type": "execute_result"
    }
   ],
   "source": [
    "df.shape"
   ]
  },
  {
   "cell_type": "markdown",
   "id": "a4919b2a",
   "metadata": {},
   "source": [
    "## Exploring Categories"
   ]
  },
  {
   "cell_type": "code",
   "execution_count": 5,
   "id": "74a12c67",
   "metadata": {},
   "outputs": [
    {
     "data": {
      "text/plain": [
       "Java Developer               84\n",
       "Testing                      70\n",
       "DevOps Engineer              55\n",
       "Python Developer             48\n",
       "Web Designing                45\n",
       "HR                           44\n",
       "Hadoop                       42\n",
       "Blockchain                   40\n",
       "ETL Developer                40\n",
       "Operations Manager           40\n",
       "Data Science                 40\n",
       "Sales                        40\n",
       "Mechanical Engineer          40\n",
       "Arts                         36\n",
       "Database                     33\n",
       "Electrical Engineering       30\n",
       "Health and fitness           30\n",
       "PMO                          30\n",
       "Business Analyst             28\n",
       "DotNet Developer             28\n",
       "Automation Testing           26\n",
       "Network Security Engineer    25\n",
       "SAP Developer                24\n",
       "Civil Engineer               24\n",
       "Advocate                     20\n",
       "Name: Category, dtype: int64"
      ]
     },
     "execution_count": 5,
     "metadata": {},
     "output_type": "execute_result"
    }
   ],
   "source": [
    "df['Category'].value_counts()"
   ]
  },
  {
   "cell_type": "code",
   "execution_count": 6,
   "id": "110b66a3",
   "metadata": {},
   "outputs": [
    {
     "data": {
      "image/png": "[encoded data removed]",
      "text/plain": [
       "<Figure size 1080x576 with 1 Axes>"
      ]
     },
     "metadata": {
      "needs_background": "light"
     },
     "output_type": "display_data"
    }
   ],
   "source": [
    "plt.figure(figsize=(15, 8))\n",
    "ax = sns.barplot(x=df['Category'].value_counts(), y=df['Category'].value_counts().index)\n",
    "\n",
    "# Display count values on the bars\n",
    "for i, count in enumerate(df['Category'].value_counts()):\n",
    "    ax.text(count + 0.1, i, f'{count}', va='center')\n",
    "\n",
    "plt.show()"
   ]
  },
  {
   "cell_type": "markdown",
   "id": "0f8de06d",
   "metadata": {},
   "source": [
    "## Exploring Resume"
   ]
  },
  {
   "cell_type": "code",
   "execution_count": 7,
   "id": "df951c1f",
   "metadata": {},
   "outputs": [
    {
     "data": {
      "text/plain": [
       "'Data Science'"
      ]
     },
     "execution_count": 7,
     "metadata": {},
     "output_type": "execute_result"
    }
   ],
   "source": [
    "df['Category'][0]"
   ]
  },
  {
   "cell_type": "code",
   "execution_count": 8,
   "id": "8b94d291",
   "metadata": {},
   "outputs": [
    {
     "data": {
      "text/plain": [
       "\"â\\x80¢ Good communication skill â\\x80¢ Quick learner â\\x80¢ Keen to find solutionsEducation Details \\r\\n MBA Marketing and International Business Management Pune, Maharashtra Pune University\\r\\n B-Tech Tech Nagpur, Maharashtra RTM Nagpur University\\r\\nG.M. Arts, Commerce & Science \\r\\n\\r\\nG.M. Arts, Commerce & Science\\r\\nSkill Details \\r\\nCompany Details \\r\\ncompany - Samarth College\\r\\ndescription - of Engineering        30          7        210 \\r\\n5      College to campus             VJ College of Pharmacy         10 days' workshop       10\\r\\n\\r\\nG.M. Arts, Commerce & Science 6          Soft Skills                                               6 days' workshop           6\\r\\nCollege\\r\\n\\r\\nPersonality             G.M. Institute of Agricultural 7\\t\\t6 days' workshop           6\\r\\nDevelopment                        Diploma \\r\\n8          Soft Skills           Samarth College of Polytechnic     20 days' workshop       20\\r\\n\\r\\nTOTAL                                              350\\r\\nWORKING EXPERIENCE IN CORPORATE:\\r\\nSr. No               Topic                      Company                  No. of days    Total Hrs \\r\\n1       Presentation skill & Team    Elringklinger Automotives Pvt 1 Day           8 building Workshop             Ltd, Ranjangaon, Pune \\r\\n2           Negotiation skill & Kubler Automation Pvt Ltd., 2 days          16\\r\\nCommunication skill               Chakan, Pune \\r\\n3       Business Communication       Finanza Home Loans, Pimple 3 days          21 & Stress management               saudagar, Pune \\r\\n4        Team-building & Verbal       Sharvari Products Pvt Ltd, 2 days          16 communication                   Junner, Pune 7 days' 5             Entrepreneurship       Agriculture Research Centre,\\r\\nWorkshop        168\\r\\nDevelopment               Narayangaon, Pune (8 batches)\\r\\nTOTAL                                             229\\r\\n\\r\\nADJOINING SKILLS: â\\x80¢ Working knowledge of Windows operating system and MS Office â\\x80¢ Communicate well in English, Hindi & Marathi.\\r\\nâ\\x80¢ Organized and participated in events like gathering, teachers day, fashion show and various science exhibitions at college\""
      ]
     },
     "execution_count": 8,
     "metadata": {},
     "output_type": "execute_result"
    }
   ],
   "source": [
    "df['Resume'][110]"
   ]
  },
  {
   "cell_type": "markdown",
   "id": "ef98ed57",
   "metadata": {},
   "source": [
    "## Cleaning Data\n",
    "\n",
    "1. URLs\n",
    "2. Hashtags\n",
    "3. Mentions\n",
    "4. Special Characters\n",
    "5. Punctuations"
   ]
  },
  {
   "cell_type": "code",
   "execution_count": 9,
   "id": "521d0c6e",
   "metadata": {},
   "outputs": [],
   "source": [
    "import re"
   ]
  },
  {
   "cell_type": "code",
   "execution_count": 10,
   "id": "74602569",
   "metadata": {},
   "outputs": [],
   "source": [
    "def cleanResume(txt):\n",
    "    \n",
    "    # Removing the links\n",
    "    cleanTxt = re.sub('http\\S+\\s', ' ', txt)\n",
    "    \n",
    "    # Removing Emails\n",
    "    cleanTxt = re.sub('@\\S+', ' ', cleanTxt)\n",
    "    \n",
    "    # Removing hashtags\n",
    "    cleanTxt = re.sub('#\\S+', ' ', cleanTxt)\n",
    "    \n",
    "    # Removing RT and cc\n",
    "    cleanTxt = re.sub('RT|cc', ' ', cleanTxt)\n",
    "    \n",
    "    # Removing special characters\n",
    "    cleanTxt = re.sub('[%s]' % re.escape(\"\"\"!\"#$%&'()*+,./<=>?@[\\]^_`{|}~\"\"\"), ' ',  cleanTxt)\n",
    "    \n",
    "    # Removing extra characters\n",
    "    cleanTxt = re.sub('r[^\\x100-\\x7f]', ' ', cleanTxt)\n",
    "    \n",
    "    # Removing programming sequences\n",
    "    cleanTxt = re.sub('#\\s', ' ', cleanTxt)\n",
    "\n",
    "\n",
    "    return cleanTxt"
   ]
  },
  {
   "cell_type": "code",
   "execution_count": 12,
   "id": "79cdbe6b",
   "metadata": {},
   "outputs": [],
   "source": [
    "df['Clean_Resume'] = df['Resume'].apply(lambda x: cleanResume(x))"
   ]
  },
  {
   "cell_type": "markdown",
   "id": "4d818fe1",
   "metadata": {},
   "source": [
    "## Label Encoding"
   ]
  },
  {
   "cell_type": "code",
   "execution_count": 13,
   "id": "54e10870",
   "metadata": {},
   "outputs": [],
   "source": [
    "from sklearn.preprocessing import LabelEncoder\n",
    "le = LabelEncoder()"
   ]
  },
  {
   "cell_type": "code",
   "execution_count": 14,
   "id": "285db582",
   "metadata": {},
   "outputs": [],
   "source": [
    "le.fit(df['Category'])\n",
    "df['Category_Labels'] = le.transform(df['Category'])"
   ]
  },
  {
   "cell_type": "code",
   "execution_count": 15,
   "id": "dd979c27",
   "metadata": {},
   "outputs": [
    {
     "data": {
      "text/html": [
       "<div>\n",
       "<style scoped>\n",
       "    .dataframe tbody tr th:only-of-type {\n",
       "        vertical-align: middle;\n",
       "    }\n",
       "\n",
       "    .dataframe tbody tr th {\n",
       "        vertical-align: top;\n",
       "    }\n",
       "\n",
       "    .dataframe thead th {\n",
       "        text-align: right;\n",
       "    }\n",
       "</style>\n",
       "<table border=\"1\" class=\"dataframe\">\n",
       "  <thead>\n",
       "    <tr style=\"text-align: right;\">\n",
       "      <th></th>\n",
       "      <th>Category</th>\n",
       "      <th>Resume</th>\n",
       "      <th>Clean_Resume</th>\n",
       "      <th>Category_Labels</th>\n",
       "    </tr>\n",
       "  </thead>\n",
       "  <tbody>\n",
       "    <tr>\n",
       "      <th>0</th>\n",
       "      <td>Data Science</td>\n",
       "      <td>Skills * Programming Languages: Python (pandas...</td>\n",
       "      <td>Skills   Programming Languages: Python  pandas...</td>\n",
       "      <td>6</td>\n",
       "    </tr>\n",
       "    <tr>\n",
       "      <th>1</th>\n",
       "      <td>Data Science</td>\n",
       "      <td>Education Details \\r\\nMay 2013 to May 2017 B.E...</td>\n",
       "      <td>Education Details \\r\\nMay 2013 to May 2017 B E...</td>\n",
       "      <td>6</td>\n",
       "    </tr>\n",
       "    <tr>\n",
       "      <th>2</th>\n",
       "      <td>Data Science</td>\n",
       "      <td>Areas of Interest Deep Learning, Control Syste...</td>\n",
       "      <td>Areas of Interest Deep Learning  Control Syste...</td>\n",
       "      <td>6</td>\n",
       "    </tr>\n",
       "    <tr>\n",
       "      <th>3</th>\n",
       "      <td>Data Science</td>\n",
       "      <td>Skills â¢ R â¢ Python â¢ SAP HANA â¢ Table...</td>\n",
       "      <td>Skills â¢ R â¢ Python â¢ SAP HANA â¢ Table...</td>\n",
       "      <td>6</td>\n",
       "    </tr>\n",
       "    <tr>\n",
       "      <th>4</th>\n",
       "      <td>Data Science</td>\n",
       "      <td>Education Details \\r\\n MCA   YMCAUST,  Faridab...</td>\n",
       "      <td>Education Details \\r\\n MCA   YMCAUST   Faridab...</td>\n",
       "      <td>6</td>\n",
       "    </tr>\n",
       "    <tr>\n",
       "      <th>...</th>\n",
       "      <td>...</td>\n",
       "      <td>...</td>\n",
       "      <td>...</td>\n",
       "      <td>...</td>\n",
       "    </tr>\n",
       "    <tr>\n",
       "      <th>957</th>\n",
       "      <td>Testing</td>\n",
       "      <td>Computer Skills: â¢ Proficient in MS office (...</td>\n",
       "      <td>Compute Skills: â¢ Proficient in MS office  W...</td>\n",
       "      <td>23</td>\n",
       "    </tr>\n",
       "    <tr>\n",
       "      <th>958</th>\n",
       "      <td>Testing</td>\n",
       "      <td>â Willingness to accept the challenges. â ...</td>\n",
       "      <td>â Willingness to a ept the challenges  â P...</td>\n",
       "      <td>23</td>\n",
       "    </tr>\n",
       "    <tr>\n",
       "      <th>959</th>\n",
       "      <td>Testing</td>\n",
       "      <td>PERSONAL SKILLS â¢ Quick learner, â¢ Eagerne...</td>\n",
       "      <td>PERSONAL SKILLS â¢ Quick learne  â¢ Eagernes...</td>\n",
       "      <td>23</td>\n",
       "    </tr>\n",
       "    <tr>\n",
       "      <th>960</th>\n",
       "      <td>Testing</td>\n",
       "      <td>COMPUTER SKILLS &amp; SOFTWARE KNOWLEDGE MS-Power ...</td>\n",
       "      <td>COMPUTER SKILLS   SOFTWARE KNOWLEDGE MS-Powe P...</td>\n",
       "      <td>23</td>\n",
       "    </tr>\n",
       "    <tr>\n",
       "      <th>961</th>\n",
       "      <td>Testing</td>\n",
       "      <td>Skill Set OS Windows XP/7/8/8.1/10 Database MY...</td>\n",
       "      <td>Skill Set OS Windows XP 7 8 8 1 10 Database MY...</td>\n",
       "      <td>23</td>\n",
       "    </tr>\n",
       "  </tbody>\n",
       "</table>\n",
       "<p>962 rows × 4 columns</p>\n",
       "</div>"
      ],
      "text/plain": [
       "         Category                                             Resume  \\\n",
       "0    Data Science  Skills * Programming Languages: Python (pandas...   \n",
       "1    Data Science  Education Details \\r\\nMay 2013 to May 2017 B.E...   \n",
       "2    Data Science  Areas of Interest Deep Learning, Control Syste...   \n",
       "3    Data Science  Skills â¢ R â¢ Python â¢ SAP HANA â¢ Table...   \n",
       "4    Data Science  Education Details \\r\\n MCA   YMCAUST,  Faridab...   \n",
       "..            ...                                                ...   \n",
       "957       Testing  Computer Skills: â¢ Proficient in MS office (...   \n",
       "958       Testing  â Willingness to accept the challenges. â ...   \n",
       "959       Testing  PERSONAL SKILLS â¢ Quick learner, â¢ Eagerne...   \n",
       "960       Testing  COMPUTER SKILLS & SOFTWARE KNOWLEDGE MS-Power ...   \n",
       "961       Testing  Skill Set OS Windows XP/7/8/8.1/10 Database MY...   \n",
       "\n",
       "                                          Clean_Resume  Category_Labels  \n",
       "0    Skills   Programming Languages: Python  pandas...                6  \n",
       "1    Education Details \\r\\nMay 2013 to May 2017 B E...                6  \n",
       "2    Areas of Interest Deep Learning  Control Syste...                6  \n",
       "3    Skills â¢ R â¢ Python â¢ SAP HANA â¢ Table...                6  \n",
       "4    Education Details \\r\\n MCA   YMCAUST   Faridab...                6  \n",
       "..                                                 ...              ...  \n",
       "957  Compute Skills: â¢ Proficient in MS office  W...               23  \n",
       "958  â Willingness to a ept the challenges  â P...               23  \n",
       "959  PERSONAL SKILLS â¢ Quick learne  â¢ Eagernes...               23  \n",
       "960  COMPUTER SKILLS   SOFTWARE KNOWLEDGE MS-Powe P...               23  \n",
       "961  Skill Set OS Windows XP 7 8 8 1 10 Database MY...               23  \n",
       "\n",
       "[962 rows x 4 columns]"
      ]
     },
     "execution_count": 15,
     "metadata": {},
     "output_type": "execute_result"
    }
   ],
   "source": [
    "df"
   ]
  },
  {
   "cell_type": "markdown",
   "id": "24c583f4",
   "metadata": {},
   "source": [
    "## Vectorization"
   ]
  },
  {
   "cell_type": "code",
   "execution_count": 17,
   "id": "accbeefe",
   "metadata": {},
   "outputs": [],
   "source": [
    "from sklearn.feature_extraction.text import TfidfVectorizer\n",
    "tfidf = TfidfVectorizer(stop_words='english')"
   ]
  },
  {
   "cell_type": "code",
   "execution_count": 18,
   "id": "8699a798",
   "metadata": {},
   "outputs": [],
   "source": [
    "tfidf.fit(df['Clean_Resume'])\n",
    "requiredText = tfidf .transform(df['Resume'])"
   ]
  },
  {
   "cell_type": "markdown",
   "id": "b82dd2a5",
   "metadata": {},
   "source": [
    "## Train Test Splitting"
   ]
  },
  {
   "cell_type": "code",
   "execution_count": 23,
   "id": "73549554",
   "metadata": {},
   "outputs": [],
   "source": [
    "from sklearn.model_selection import train_test_split"
   ]
  },
  {
   "cell_type": "code",
   "execution_count": 24,
   "id": "9916ab26",
   "metadata": {},
   "outputs": [],
   "source": [
    "X_train, X_test, y_train, y_test = train_test_split(requiredText, df['Category_Labels'], test_size=0.2, random_state=42)"
   ]
  },
  {
   "cell_type": "code",
   "execution_count": 25,
   "id": "6e002c35",
   "metadata": {},
   "outputs": [
    {
     "data": {
      "text/plain": [
       "(769, 7402)"
      ]
     },
     "execution_count": 25,
     "metadata": {},
     "output_type": "execute_result"
    }
   ],
   "source": [
    "X_train.shape"
   ]
  },
  {
   "cell_type": "code",
   "execution_count": 26,
   "id": "0151171c",
   "metadata": {},
   "outputs": [
    {
     "data": {
      "text/plain": [
       "(193, 7402)"
      ]
     },
     "execution_count": 26,
     "metadata": {},
     "output_type": "execute_result"
    }
   ],
   "source": [
    "X_test.shape"
   ]
  },
  {
   "cell_type": "markdown",
   "id": "4812b457",
   "metadata": {},
   "source": [
    "## Model Training"
   ]
  },
  {
   "cell_type": "code",
   "execution_count": 33,
   "id": "60fcf4bf",
   "metadata": {},
   "outputs": [],
   "source": [
    "from sklearn.neighbors import KNeighborsClassifier\n",
    "from sklearn.multiclass import OneVsRestClassifier\n",
    "from sklearn.metrics import accuracy_score\n",
    "\n",
    "clf = OneVsRestClassifier(KNeighborsClassifier())"
   ]
  },
  {
   "cell_type": "code",
   "execution_count": 34,
   "id": "311f4be3",
   "metadata": {
    "scrolled": false
   },
   "outputs": [
    {
     "name": "stdout",
     "output_type": "stream",
     "text": [
      "[15 15 15 13 14 17 16  2  0 14 13 12 16 23 20  5  6  4 10  9 19  1 10 23\n",
      " 23 21 22 22  2 12 18  1  8 24 11 23  7 12 24  8 18  6  8 19 24 23 21  1\n",
      " 15  4 15 22 11  5 15 13  1 19  5 12 22 22 20 24 21 18 12 10 10 20 10  8\n",
      "  9 21 17 21  0 17 16 14 15 11 11  8 20  3 19  8  0  2  9 10  2 23 20 20\n",
      " 23 12 18 12  7 16  8 14 18  3 14 19 14 14 15 18  8  2 21 18 23 10 23  5\n",
      " 11 15 12  3  5  3  7 12 19  8 20 19  3 15  9 19  1 23 21  5 20 15 16  7\n",
      "  7  8 15 18  1 15 13 20  7  4 18 11  5 15  5 12  9 22 18 21  8 23  4 12\n",
      " 24 16 15 22  8 22  3 16 23 23 12  7 16 18  5  3 18  8 23 23 20 21  6  7\n",
      " 23]\n"
     ]
    }
   ],
   "source": [
    "clf.fit(X_train, y_train)\n",
    "ypred = clf.predict(X_test)\n",
    "print(ypred)"
   ]
  },
  {
   "cell_type": "code",
   "execution_count": 36,
   "id": "5d978e94",
   "metadata": {},
   "outputs": [
    {
     "name": "stdout",
     "output_type": "stream",
     "text": [
      "0.9844559585492227\n"
     ]
    }
   ],
   "source": [
    "print(accuracy_score(y_test, ypred))"
   ]
  },
  {
   "cell_type": "markdown",
   "id": "16e70b62",
   "metadata": {},
   "source": [
    "## Prediction System"
   ]
  },
  {
   "cell_type": "code",
   "execution_count": 38,
   "id": "dab07ca2",
   "metadata": {},
   "outputs": [],
   "source": [
    "import pickle\n",
    "pickle.dump(tfidf, open('tfidf.pkl', 'wb'))\n",
    "pickle.dump(clf, open('clf.pkl', 'wb'))"
   ]
  },
  {
   "cell_type": "code",
   "execution_count": 47,
   "id": "8ac61ce9",
   "metadata": {},
   "outputs": [],
   "source": [
    "myresume = \"\"\"\\â\\x80¢ Good communication skill â\\x80¢ Quick learner â\\x80¢ Keen to find solutionsEducation Details \\r\\n MBA Marketing and International Business Management Pune, Maharashtra Pune University\\r\\n B-Tech Tech Nagpur, Maharashtra RTM Nagpur University\\r\\nG.M. Arts, Commerce & Science \\r\\n\\r\\nG.M. Arts, Commerce & Science\\r\\nSkill Details \\r\\nCompany Details \\r\\ncompany - Samarth College\\r\\ndescription - of Engineering        30          7        210 \\r\\n5      College to campus             VJ College of Pharmacy         10 days' workshop       10\\r\\n\\r\\nG.M. Arts, Commerce & Science 6          Soft Skills                                               6 days' workshop           6\\r\\nCollege\\r\\n\\r\\nPersonality             G.M. Institute of Agricultural 7\\t\\t6 days' workshop           6\\r\\nDevelopment                        Diploma \\r\\n8          Soft Skills           Samarth College of Polytechnic     20 days' workshop       20\\r\\n\\r\\nTOTAL                                              350\\r\\nWORKING EXPERIENCE IN CORPORATE:\\r\\nSr. No               Topic                      Company                  No. of days    Total Hrs \\r\\n1       Presentation skill & Team    Elringklinger Automotives Pvt 1 Day           8 building Workshop             Ltd, Ranjangaon, Pune \\r\\n2           Negotiation skill & Kubler Automation Pvt Ltd., 2 days          16\\r\\nCommunication skill               Chakan, Pune \\r\\n3       Business Communication       Finanza Home Loans, Pimple 3 days          21 & Stress management               saudagar, Pune \\r\\n4        Team-building & Verbal       Sharvari Products Pvt Ltd, 2 days          16 communication                   Junner, Pune 7 days' 5             Entrepreneurship       Agriculture Research Centre,\\r\\nWorkshop        168\\r\\nDevelopment               Narayangaon, Pune (8 batches)\\r\\nTOTAL                                             229\\r\\n\\r\\nADJOINING SKILLS: â\\x80¢ Working knowledge of Windows operating system and MS Office â\\x80¢ Communicate well in English, Hindi & Marathi.\\r\\nâ\\x80¢ Organized and participated in events like gathering, teachers day, fashion show and various science exhibitions at college\"\"\""
   ]
  },
  {
   "cell_type": "code",
   "execution_count": 56,
   "id": "c7503f14",
   "metadata": {},
   "outputs": [
    {
     "name": "stdout",
     "output_type": "stream",
     "text": [
      "Predicted Category : Arts\n",
      "1\n"
     ]
    }
   ],
   "source": [
    "# Load the trained classifier\n",
    "clf = pickle.load(open('clf.pkl', 'rb'))\n",
    "\n",
    "# Clean the input resume\n",
    "cleaned_resume = cleanResume(myresume)\n",
    "\n",
    "# Transform the cleaned resume using the trained TfidfVectorizer\n",
    "input_features = tfidf.transform([cleaned_resume])\n",
    "\n",
    "# Make the predictioin using the loaded classifier\n",
    "prediction_id = clf.predict(input_features)[0]\n",
    "\n",
    "# Mapping Category ID to Category Name\n",
    "category_mapping = {\n",
    "    6 : 'Data Science',\n",
    "    12 : 'HR',\n",
    "    0 : 'Advocate',\n",
    "    1 : 'Arts',\n",
    "    24 : 'Web Designing',\n",
    "    16 : 'Mechanical Engineer',\n",
    "    22 : 'Sales',\n",
    "    14 : 'Health and fitness',\n",
    "    5 : 'Civil Engineer',\n",
    "    15 : 'Java Developer',\n",
    "    4 : 'Business Analyst',\n",
    "    21 : 'SAP Developer',\n",
    "    2 : 'Automation Testing',\n",
    "    11 : 'Electrical Engineering',\n",
    "    18 : 'Operations Manager',\n",
    "    20 : 'Python Developer',\n",
    "    8 : 'DevOps Engineer',\n",
    "    17 : 'Network Security Engineer',\n",
    "    19 : 'PMO',\n",
    "    7 : 'Database',\n",
    "    13 : 'Hadoop',\n",
    "    10 : 'ETL Developer',\n",
    "    9 : 'DotNet Developer',\n",
    "    3 : 'Blockchain',\n",
    "    23 : 'Testing'\n",
    "}\n",
    "\n",
    "category_name = category_mapping.get(prediction_id, \"Unknown\")\n",
    "\n",
    "print(\"Predicted Category :\", category_name)\n",
    "print(prediction_id)"
   ]
  }
 ],
 "metadata": {
  "kernelspec": {
   "display_name": "Python 3",
   "language": "python",
   "name": "python3"
  },
  "language_info": {
   "codemirror_mode": {
    "name": "ipython",
    "version": 3
   },
   "file_extension": ".py",
   "mimetype": "text/x-python",
   "name": "python",
   "nbconvert_exporter": "python",
   "pygments_lexer": "ipython3",
   "version": "3.10.9"
  }
 },
 "nbformat": 4,
 "nbformat_minor": 5
}
